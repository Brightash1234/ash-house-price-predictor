{
 "cells": [
  {
   "cell_type": "markdown",
   "id": "048982ed",
   "metadata": {},
   "source": [
    "# Task 1: Data Loading and Preprocessing\n",
    "\n",
    "###### Submitted By : Ashok Deb"
   ]
  },
  {
   "cell_type": "markdown",
   "id": "ca31d37d",
   "metadata": {},
   "source": [
    "### Data Loading "
   ]
  },
  {
   "cell_type": "code",
   "execution_count": 1,
   "id": "4fadbc66",
   "metadata": {},
   "outputs": [],
   "source": [
    "# importing pandas\n",
    "import pandas as pd"
   ]
  },
  {
   "cell_type": "code",
   "execution_count": 2,
   "id": "a981e086",
   "metadata": {},
   "outputs": [
    {
     "data": {
      "text/html": [
       "<div>\n",
       "<style scoped>\n",
       "    .dataframe tbody tr th:only-of-type {\n",
       "        vertical-align: middle;\n",
       "    }\n",
       "\n",
       "    .dataframe tbody tr th {\n",
       "        vertical-align: top;\n",
       "    }\n",
       "\n",
       "    .dataframe thead th {\n",
       "        text-align: right;\n",
       "    }\n",
       "</style>\n",
       "<table border=\"1\" class=\"dataframe\">\n",
       "  <thead>\n",
       "    <tr style=\"text-align: right;\">\n",
       "      <th></th>\n",
       "      <th>Sno</th>\n",
       "      <th>job</th>\n",
       "      <th>education</th>\n",
       "      <th>gender</th>\n",
       "      <th>English speaker</th>\n",
       "    </tr>\n",
       "  </thead>\n",
       "  <tbody>\n",
       "    <tr>\n",
       "      <th>0</th>\n",
       "      <td>1</td>\n",
       "      <td>manage</td>\n",
       "      <td>15</td>\n",
       "      <td>male</td>\n",
       "      <td>no</td>\n",
       "    </tr>\n",
       "    <tr>\n",
       "      <th>1</th>\n",
       "      <td>2</td>\n",
       "      <td>admin</td>\n",
       "      <td>16</td>\n",
       "      <td>male</td>\n",
       "      <td>no</td>\n",
       "    </tr>\n",
       "    <tr>\n",
       "      <th>2</th>\n",
       "      <td>3</td>\n",
       "      <td>admin</td>\n",
       "      <td>12</td>\n",
       "      <td>female</td>\n",
       "      <td>no</td>\n",
       "    </tr>\n",
       "    <tr>\n",
       "      <th>3</th>\n",
       "      <td>4</td>\n",
       "      <td>admin</td>\n",
       "      <td>8</td>\n",
       "      <td>female</td>\n",
       "      <td>no</td>\n",
       "    </tr>\n",
       "    <tr>\n",
       "      <th>4</th>\n",
       "      <td>5</td>\n",
       "      <td>admin</td>\n",
       "      <td>15</td>\n",
       "      <td>male</td>\n",
       "      <td>no</td>\n",
       "    </tr>\n",
       "  </tbody>\n",
       "</table>\n",
       "</div>"
      ],
      "text/plain": [
       "   Sno     job  education  gender English speaker\n",
       "0    1  manage         15    male              no\n",
       "1    2   admin         16    male              no\n",
       "2    3   admin         12  female              no\n",
       "3    4   admin          8  female              no\n",
       "4    5   admin         15    male              no"
      ]
     },
     "execution_count": 2,
     "metadata": {},
     "output_type": "execute_result"
    }
   ],
   "source": [
    "# Reading the CSV file\n",
    "df = pd.read_csv('Dataset.csv')\n",
    "df.head()"
   ]
  },
  {
   "cell_type": "code",
   "execution_count": 3,
   "id": "221af470",
   "metadata": {},
   "outputs": [
    {
     "data": {
      "text/plain": [
       "(474, 5)"
      ]
     },
     "execution_count": 3,
     "metadata": {},
     "output_type": "execute_result"
    }
   ],
   "source": [
    "# check for total number of rows and columns\n",
    "df.shape"
   ]
  },
  {
   "cell_type": "markdown",
   "id": "b274c97a",
   "metadata": {},
   "source": [
    "### Modifications on the dataset "
   ]
  },
  {
   "cell_type": "code",
   "execution_count": 4,
   "id": "a6b8ba0a",
   "metadata": {},
   "outputs": [],
   "source": [
    "# Removing Sno since it is just index column , hence useless for our analysis\n",
    "df.drop(columns=['Sno'] , inplace = True) "
   ]
  },
  {
   "cell_type": "markdown",
   "id": "49101da0",
   "metadata": {},
   "source": [
    "### Handling missing values"
   ]
  },
  {
   "cell_type": "markdown",
   "id": "6356eb1e",
   "metadata": {},
   "source": [
    "Need to handle missing values which might reduce accuracy of predictions."
   ]
  },
  {
   "cell_type": "code",
   "execution_count": 5,
   "id": "d24e184c",
   "metadata": {},
   "outputs": [
    {
     "data": {
      "text/plain": [
       "job                0\n",
       "education          0\n",
       "gender             0\n",
       "English speaker    0\n",
       "dtype: int64"
      ]
     },
     "execution_count": 5,
     "metadata": {},
     "output_type": "execute_result"
    }
   ],
   "source": [
    "# count the number of missing values in each column\n",
    "df.isnull().sum()"
   ]
  },
  {
   "cell_type": "raw",
   "id": "634ae7e2",
   "metadata": {},
   "source": [
    "It can be concluded that there are no missing values in the dataset"
   ]
  },
  {
   "cell_type": "markdown",
   "id": "bc20dcf8",
   "metadata": {},
   "source": [
    "### Removing duplicate rows "
   ]
  },
  {
   "cell_type": "markdown",
   "id": "1727e6b9",
   "metadata": {},
   "source": [
    "Need to handle duplicates, otherwise it would create unnecessary overhead for the ML model."
   ]
  },
  {
   "cell_type": "code",
   "execution_count": 6,
   "id": "3299d1e4",
   "metadata": {},
   "outputs": [
    {
     "data": {
      "text/plain": [
       "434"
      ]
     },
     "execution_count": 6,
     "metadata": {},
     "output_type": "execute_result"
    }
   ],
   "source": [
    "# Check for number of duplicate rows\n",
    "df.duplicated().sum()"
   ]
  },
  {
   "cell_type": "code",
   "execution_count": 7,
   "id": "82aa1910",
   "metadata": {},
   "outputs": [],
   "source": [
    "# delete all duplicate rows using the command\n",
    "df.drop_duplicates(subset=None, inplace=True)"
   ]
  },
  {
   "cell_type": "code",
   "execution_count": 8,
   "id": "f3dad008",
   "metadata": {},
   "outputs": [
    {
     "data": {
      "text/plain": [
       "(40, 4)"
      ]
     },
     "execution_count": 8,
     "metadata": {},
     "output_type": "execute_result"
    }
   ],
   "source": [
    "df.shape"
   ]
  },
  {
   "cell_type": "markdown",
   "id": "256cc497",
   "metadata": {},
   "source": [
    "Duplicate rows are deleted and only unique rows are remaining"
   ]
  },
  {
   "cell_type": "markdown",
   "id": "36d0fdee",
   "metadata": {},
   "source": [
    "### Few rows of the cleaned dataset "
   ]
  },
  {
   "cell_type": "code",
   "execution_count": 9,
   "id": "cd7ad4bf",
   "metadata": {},
   "outputs": [
    {
     "data": {
      "text/html": [
       "<div>\n",
       "<style scoped>\n",
       "    .dataframe tbody tr th:only-of-type {\n",
       "        vertical-align: middle;\n",
       "    }\n",
       "\n",
       "    .dataframe tbody tr th {\n",
       "        vertical-align: top;\n",
       "    }\n",
       "\n",
       "    .dataframe thead th {\n",
       "        text-align: right;\n",
       "    }\n",
       "</style>\n",
       "<table border=\"1\" class=\"dataframe\">\n",
       "  <thead>\n",
       "    <tr style=\"text-align: right;\">\n",
       "      <th></th>\n",
       "      <th>job</th>\n",
       "      <th>education</th>\n",
       "      <th>gender</th>\n",
       "      <th>English speaker</th>\n",
       "    </tr>\n",
       "  </thead>\n",
       "  <tbody>\n",
       "    <tr>\n",
       "      <th>0</th>\n",
       "      <td>manage</td>\n",
       "      <td>15</td>\n",
       "      <td>male</td>\n",
       "      <td>no</td>\n",
       "    </tr>\n",
       "    <tr>\n",
       "      <th>1</th>\n",
       "      <td>admin</td>\n",
       "      <td>16</td>\n",
       "      <td>male</td>\n",
       "      <td>no</td>\n",
       "    </tr>\n",
       "    <tr>\n",
       "      <th>2</th>\n",
       "      <td>admin</td>\n",
       "      <td>12</td>\n",
       "      <td>female</td>\n",
       "      <td>no</td>\n",
       "    </tr>\n",
       "    <tr>\n",
       "      <th>3</th>\n",
       "      <td>admin</td>\n",
       "      <td>8</td>\n",
       "      <td>female</td>\n",
       "      <td>no</td>\n",
       "    </tr>\n",
       "    <tr>\n",
       "      <th>4</th>\n",
       "      <td>admin</td>\n",
       "      <td>15</td>\n",
       "      <td>male</td>\n",
       "      <td>no</td>\n",
       "    </tr>\n",
       "  </tbody>\n",
       "</table>\n",
       "</div>"
      ],
      "text/plain": [
       "      job  education  gender English speaker\n",
       "0  manage         15    male              no\n",
       "1   admin         16    male              no\n",
       "2   admin         12  female              no\n",
       "3   admin          8  female              no\n",
       "4   admin         15    male              no"
      ]
     },
     "execution_count": 9,
     "metadata": {},
     "output_type": "execute_result"
    }
   ],
   "source": [
    "df.head()"
   ]
  },
  {
   "cell_type": "markdown",
   "id": "1558309f",
   "metadata": {},
   "source": [
    "# Task 2: Exploratory Data Analysis"
   ]
  },
  {
   "cell_type": "markdown",
   "id": "3d2d9116",
   "metadata": {
    "scrolled": true
   },
   "source": [
    "### Visualizations to show various distributions "
   ]
  },
  {
   "cell_type": "code",
   "execution_count": 10,
   "id": "14bd7c17",
   "metadata": {},
   "outputs": [],
   "source": [
    "# importing matplotlib and seaborn\n",
    "import matplotlib.pyplot as plt\n",
    "import seaborn as sns"
   ]
  },
  {
   "cell_type": "markdown",
   "id": "3cea0603",
   "metadata": {},
   "source": [
    "Used seaborn to plot the various distribution using countplot"
   ]
  },
  {
   "cell_type": "code",
   "execution_count": 11,
   "id": "e3b1efee",
   "metadata": {},
   "outputs": [
    {
     "data": {
      "image/png": "[encoded data removed]",
      "text/plain": [
       "<Figure size 1000x600 with 1 Axes>"
      ]
     },
     "metadata": {},
     "output_type": "display_data"
    }
   ],
   "source": [
    "# Visualizing the distribution of job roles using countplot\n",
    "plt.figure(figsize=(10, 6))\n",
    "sns.countplot(x='job', data=df)\n",
    "plt.xticks(rotation=45)\n",
    "plt.title('Distribution of Job Roles')\n",
    "plt.show()"
   ]
  },
  {
   "cell_type": "code",
   "execution_count": 12,
   "id": "0e6e5be4",
   "metadata": {},
   "outputs": [
    {
     "data": {
      "image/png": "[encoded data removed]",
      "text/plain": [
       "<Figure size 1000x600 with 1 Axes>"
      ]
     },
     "metadata": {},
     "output_type": "display_data"
    }
   ],
   "source": [
    "# Visualizing the distribution of education levels using countplot\n",
    "plt.figure(figsize=(10, 6))\n",
    "sns.countplot(x='education', data=df)\n",
    "plt.xticks(rotation=45)\n",
    "plt.title('Distribution of Education Levels')\n",
    "plt.show()"
   ]
  },
  {
   "cell_type": "code",
   "execution_count": 13,
   "id": "9ff4d2ee",
   "metadata": {},
   "outputs": [
    {
     "data": {
      "image/png": "[encoded data removed]",
      "text/plain": [
       "<Figure size 800x500 with 1 Axes>"
      ]
     },
     "metadata": {},
     "output_type": "display_data"
    }
   ],
   "source": [
    "# Visualizing the distribution of gender using countplot\n",
    "plt.figure(figsize=(8, 5))\n",
    "sns.countplot(x='gender', data=df)\n",
    "plt.title('Distribution of Gender')\n",
    "plt.show()"
   ]
  },
  {
   "cell_type": "code",
   "execution_count": 14,
   "id": "95a6d495",
   "metadata": {},
   "outputs": [
    {
     "data": {
      "image/png": "[encoded data removed]",
      "text/plain": [
       "<Figure size 800x500 with 1 Axes>"
      ]
     },
     "metadata": {},
     "output_type": "display_data"
    }
   ],
   "source": [
    "# Visualizing the distribution of English-speaking groups using countplot\n",
    "plt.figure(figsize=(8, 5))\n",
    "sns.countplot(x='English speaker', data=df)\n",
    "plt.title('Distribution of English-speaking Status')\n",
    "plt.show()"
   ]
  },
  {
   "cell_type": "markdown",
   "id": "a04a5937",
   "metadata": {},
   "source": [
    "###  Calculating percentage of individuals "
   ]
  },
  {
   "cell_type": "markdown",
   "id": "49c79d9d",
   "metadata": {},
   "source": [
    "find out the count of the individuals of a particular category and divide it by total len of the dataframe\n",
    "value_counts() method returns an object containing unique individuals and their counts\n",
    "divide it by total length to get percentage"
   ]
  },
  {
   "cell_type": "code",
   "execution_count": 15,
   "id": "02d56274",
   "metadata": {},
   "outputs": [
    {
     "data": {
      "text/plain": [
       "admin        23\n",
       "manage       12\n",
       "custodial     5\n",
       "Name: job, dtype: int64"
      ]
     },
     "execution_count": 15,
     "metadata": {},
     "output_type": "execute_result"
    }
   ],
   "source": [
    "# count of all types in a particular category\n",
    "df['job'].value_counts()"
   ]
  },
  {
   "cell_type": "code",
   "execution_count": 16,
   "id": "57a74ced",
   "metadata": {},
   "outputs": [
    {
     "name": "stdout",
     "output_type": "stream",
     "text": [
      "Percentage of Individuals Belonging to Different Job Roles:\n",
      "admin        57.5\n",
      "manage       30.0\n",
      "custodial    12.5\n",
      "Name: job, dtype: float64\n"
     ]
    }
   ],
   "source": [
    "# Calculating the percentage of individuals belonging to various job roles\n",
    "job_role_percentage = (df['job'].value_counts() / len(df)) * 100\n",
    "print(\"Percentage of Individuals Belonging to Different Job Roles:\")\n",
    "print(job_role_percentage)"
   ]
  },
  {
   "cell_type": "code",
   "execution_count": 17,
   "id": "09430d25",
   "metadata": {},
   "outputs": [
    {
     "name": "stdout",
     "output_type": "stream",
     "text": [
      "Percentage of Individuals having Different Education Levels:\n",
      "16    17.5\n",
      "12    17.5\n",
      "15    15.0\n",
      "8     15.0\n",
      "17    10.0\n",
      "19     7.5\n",
      "18     7.5\n",
      "14     5.0\n",
      "20     2.5\n",
      "21     2.5\n",
      "Name: education, dtype: float64\n"
     ]
    }
   ],
   "source": [
    "# Calculating the percentage of individuals having different education levels\n",
    "education_percentage = (df['education'].value_counts() / len(df)) * 100\n",
    "print(\"Percentage of Individuals having Different Education Levels:\")\n",
    "print(education_percentage)"
   ]
  },
  {
   "cell_type": "code",
   "execution_count": 18,
   "id": "40fbe57a",
   "metadata": {},
   "outputs": [
    {
     "name": "stdout",
     "output_type": "stream",
     "text": [
      "Percentage of Individuals Belonging to Different Gender Groups:\n",
      "male      75.0\n",
      "female    25.0\n",
      "Name: gender, dtype: float64\n"
     ]
    }
   ],
   "source": [
    "# Calculating the percentage of individuals belonging to different gender groups\n",
    "gender_percentage = (df['gender'].value_counts() / len(df)) * 100\n",
    "print(\"Percentage of Individuals Belonging to Different Gender Groups:\")\n",
    "print(gender_percentage)"
   ]
  },
  {
   "cell_type": "code",
   "execution_count": 19,
   "id": "ac0aee06",
   "metadata": {},
   "outputs": [
    {
     "name": "stdout",
     "output_type": "stream",
     "text": [
      "Percentage of Individuals Belonging to Different English-speaking Groups:\n",
      "no     55.0\n",
      "yes    45.0\n",
      "Name: English speaker, dtype: float64\n"
     ]
    }
   ],
   "source": [
    "# Calculating the percentage of individuals belonging to different English-speaking groups\n",
    "english_speaking_percentage = (df['English speaker'].value_counts() / len(df)) * 100\n",
    "print(\"Percentage of Individuals Belonging to Different English-speaking Groups:\")\n",
    "print(english_speaking_percentage)"
   ]
  },
  {
   "cell_type": "markdown",
   "id": "6fcd133e",
   "metadata": {},
   "source": [
    "# Task 3: Gender and English Speaker Analysis"
   ]
  },
  {
   "cell_type": "markdown",
   "id": "d56a1c9a",
   "metadata": {},
   "source": [
    "### Average education levels of each gender group "
   ]
  },
  {
   "cell_type": "markdown",
   "id": "c940670d",
   "metadata": {},
   "source": [
    "Group by all columns in terms of 'gender' column and then calculate the mean of required column 'education' which gives us the avg education level of each groups."
   ]
  },
  {
   "cell_type": "code",
   "execution_count": 20,
   "id": "5394ab57",
   "metadata": {},
   "outputs": [
    {
     "name": "stdout",
     "output_type": "stream",
     "text": [
      "Average Education Level by Gender:\n",
      "gender\n",
      "female    13.5\n",
      "male      14.9\n",
      "Name: education, dtype: float64\n"
     ]
    }
   ],
   "source": [
    "#  grouped together all genders using groupby\n",
    "grouped = df.groupby('gender')\n",
    "#  find out the mean of the education_levels of each gender\n",
    "avg_education_by_gender = grouped['education'].mean()\n",
    "print(\"Average Education Level by Gender:\")\n",
    "print(avg_education_by_gender)"
   ]
  },
  {
   "cell_type": "markdown",
   "id": "565041f1",
   "metadata": {},
   "source": [
    "### Comparing the distribution of job roles among different gender groups using a Stacked Bar Chart "
   ]
  },
  {
   "cell_type": "markdown",
   "id": "fcb2e6b4",
   "metadata": {},
   "source": [
    "Stacked bar chart will be given by a pivot table where gender is used as row and job roles as col since we need the distribution of diff job roles in terms of gender. Create pivot table and plot the graph using matplotlib. "
   ]
  },
  {
   "cell_type": "code",
   "execution_count": 21,
   "id": "1b11a15a",
   "metadata": {},
   "outputs": [
    {
     "data": {
      "image/png": "[encoded data removed]",
      "text/plain": [
       "<Figure size 640x480 with 1 Axes>"
      ]
     },
     "metadata": {},
     "output_type": "display_data"
    }
   ],
   "source": [
    "# Creating a pivot table for counting job roles by gender\n",
    "\n",
    "# 'gender' is used as the row of the pivot table and 'job' as the col\n",
    "# aggfunc is set to be size since we will count the occ of all the comb of gender and job\n",
    "# empty spaces are filled with zero as fill_value = 0\n",
    "pivot_table = df.pivot_table(index='gender', columns='job', aggfunc='size', fill_value=0)\n",
    "\n",
    "# Plotting a stacked bar chart\n",
    "pivot_table.plot(kind='bar', stacked=True)\n",
    "plt.title('Distribution of Job Roles by Gender')\n",
    "plt.xlabel('Gender')\n",
    "plt.ylabel('Count')\n",
    "plt.legend(title='Job role', loc='upper right')\n",
    "plt.show()"
   ]
  },
  {
   "cell_type": "markdown",
   "id": "8a341215",
   "metadata": {},
   "source": [
    "###  Histogram to show the distribution of education levels among English speaking and Non-English speaking Groups "
   ]
  },
  {
   "cell_type": "markdown",
   "id": "22c667af",
   "metadata": {},
   "source": [
    "divide into subsets of datframe in terms of english speaking status and then plot the 'education' col of each subset esing histogram."
   ]
  },
  {
   "cell_type": "code",
   "execution_count": 22,
   "id": "30b95e9f",
   "metadata": {},
   "outputs": [
    {
     "data": {
      "image/png": "[encoded data removed]",
      "text/plain": [
       "<Figure size 1000x600 with 1 Axes>"
      ]
     },
     "metadata": {},
     "output_type": "display_data"
    }
   ],
   "source": [
    "# Creating histograms for education levels among English-speaking and non-English-speaking groups\n",
    "plt.figure(figsize=(10, 6))  # 10 units wide and 6 units tall\n",
    "\n",
    "# find out the english speaking and non english speaking subset\n",
    "eng_speaker_grp = df[df['English speaker'] == 'yes']\n",
    "non_eng_speaker_grp = df[df['English speaker'] == 'no']\n",
    "# Create histogram for 'education' within the subset\n",
    "# Plotting the hist using plt.hist() func and setting transparency to be 0.5 and no. of intervals tobe 10\n",
    "plt.hist(eng_speaker_grp['education'], alpha=0.5, label='English Speaker', bins=10)\n",
    "plt.hist(non_eng_speaker_grp['education'], alpha=0.5, label='Non-English Speaker', bins=10)\n",
    "\n",
    "plt.title('Distribution of Education Levels by English Speaking Ability')\n",
    "plt.xlabel('Education')\n",
    "plt.ylabel('Count')\n",
    "plt.legend()\n",
    "plt.show()"
   ]
  },
  {
   "cell_type": "markdown",
   "id": "e30cfc1e",
   "metadata": {},
   "source": [
    "# Task 4: Predictive Modeling"
   ]
  },
  {
   "cell_type": "markdown",
   "id": "5a8d5cac",
   "metadata": {},
   "source": [
    "### Encoding categorical variables"
   ]
  },
  {
   "cell_type": "markdown",
   "id": "d9110fee",
   "metadata": {},
   "source": [
    "One hot encode categorical data so that it is in numerical format. Convert categorical columns into binary columns using pandas function pd.get_dummies. Drop the first category within each categorical column after encoding to prevent multicollinearity by setting drop_first as True  "
   ]
  },
  {
   "cell_type": "code",
   "execution_count": 23,
   "id": "27f3f663",
   "metadata": {},
   "outputs": [
    {
     "data": {
      "text/html": [
       "<div>\n",
       "<style scoped>\n",
       "    .dataframe tbody tr th:only-of-type {\n",
       "        vertical-align: middle;\n",
       "    }\n",
       "\n",
       "    .dataframe tbody tr th {\n",
       "        vertical-align: top;\n",
       "    }\n",
       "\n",
       "    .dataframe thead th {\n",
       "        text-align: right;\n",
       "    }\n",
       "</style>\n",
       "<table border=\"1\" class=\"dataframe\">\n",
       "  <thead>\n",
       "    <tr style=\"text-align: right;\">\n",
       "      <th></th>\n",
       "      <th>education</th>\n",
       "      <th>job_custodial</th>\n",
       "      <th>job_manage</th>\n",
       "      <th>English speaker_yes</th>\n",
       "      <th>gender_male</th>\n",
       "    </tr>\n",
       "  </thead>\n",
       "  <tbody>\n",
       "    <tr>\n",
       "      <th>0</th>\n",
       "      <td>15</td>\n",
       "      <td>0</td>\n",
       "      <td>1</td>\n",
       "      <td>0</td>\n",
       "      <td>1</td>\n",
       "    </tr>\n",
       "    <tr>\n",
       "      <th>1</th>\n",
       "      <td>16</td>\n",
       "      <td>0</td>\n",
       "      <td>0</td>\n",
       "      <td>0</td>\n",
       "      <td>1</td>\n",
       "    </tr>\n",
       "    <tr>\n",
       "      <th>2</th>\n",
       "      <td>12</td>\n",
       "      <td>0</td>\n",
       "      <td>0</td>\n",
       "      <td>0</td>\n",
       "      <td>0</td>\n",
       "    </tr>\n",
       "    <tr>\n",
       "      <th>3</th>\n",
       "      <td>8</td>\n",
       "      <td>0</td>\n",
       "      <td>0</td>\n",
       "      <td>0</td>\n",
       "      <td>0</td>\n",
       "    </tr>\n",
       "    <tr>\n",
       "      <th>4</th>\n",
       "      <td>15</td>\n",
       "      <td>0</td>\n",
       "      <td>0</td>\n",
       "      <td>0</td>\n",
       "      <td>1</td>\n",
       "    </tr>\n",
       "  </tbody>\n",
       "</table>\n",
       "</div>"
      ],
      "text/plain": [
       "   education  job_custodial  job_manage  English speaker_yes  gender_male\n",
       "0         15              0           1                    0            1\n",
       "1         16              0           0                    0            1\n",
       "2         12              0           0                    0            0\n",
       "3          8              0           0                    0            0\n",
       "4         15              0           0                    0            1"
      ]
     },
     "execution_count": 23,
     "metadata": {},
     "output_type": "execute_result"
    }
   ],
   "source": [
    "# dataframe with one hot encoded categorical data\n",
    "# One col dropped from each category to avoid multicolinearity\n",
    "one_hot_encoded_data = pd.get_dummies(df, columns = ['job', 'English speaker','gender'], drop_first=True)\n",
    "one_hot_encoded_data.head()"
   ]
  },
  {
   "cell_type": "code",
   "execution_count": 24,
   "id": "4c44376b",
   "metadata": {},
   "outputs": [],
   "source": [
    "X = one_hot_encoded_data.iloc[: , :-1]  # Independent variables dataframe                              \n",
    "y = one_hot_encoded_data.iloc[:,-1]     # Dependent variable dataframe"
   ]
  },
  {
   "cell_type": "code",
   "execution_count": 25,
   "id": "7d305f3f",
   "metadata": {},
   "outputs": [
    {
     "data": {
      "text/plain": [
       "(40, 4)"
      ]
     },
     "execution_count": 25,
     "metadata": {},
     "output_type": "execute_result"
    }
   ],
   "source": [
    "X.shape"
   ]
  },
  {
   "cell_type": "code",
   "execution_count": 26,
   "id": "3403623e",
   "metadata": {},
   "outputs": [
    {
     "data": {
      "text/plain": [
       "(40,)"
      ]
     },
     "execution_count": 26,
     "metadata": {},
     "output_type": "execute_result"
    }
   ],
   "source": [
    "y.shape"
   ]
  },
  {
   "cell_type": "code",
   "execution_count": 27,
   "id": "dc9b4903",
   "metadata": {},
   "outputs": [
    {
     "data": {
      "text/html": [
       "<div>\n",
       "<style scoped>\n",
       "    .dataframe tbody tr th:only-of-type {\n",
       "        vertical-align: middle;\n",
       "    }\n",
       "\n",
       "    .dataframe tbody tr th {\n",
       "        vertical-align: top;\n",
       "    }\n",
       "\n",
       "    .dataframe thead th {\n",
       "        text-align: right;\n",
       "    }\n",
       "</style>\n",
       "<table border=\"1\" class=\"dataframe\">\n",
       "  <thead>\n",
       "    <tr style=\"text-align: right;\">\n",
       "      <th></th>\n",
       "      <th>education</th>\n",
       "      <th>job_custodial</th>\n",
       "      <th>job_manage</th>\n",
       "      <th>English speaker_yes</th>\n",
       "    </tr>\n",
       "  </thead>\n",
       "  <tbody>\n",
       "    <tr>\n",
       "      <th>0</th>\n",
       "      <td>15</td>\n",
       "      <td>0</td>\n",
       "      <td>1</td>\n",
       "      <td>0</td>\n",
       "    </tr>\n",
       "    <tr>\n",
       "      <th>1</th>\n",
       "      <td>16</td>\n",
       "      <td>0</td>\n",
       "      <td>0</td>\n",
       "      <td>0</td>\n",
       "    </tr>\n",
       "    <tr>\n",
       "      <th>2</th>\n",
       "      <td>12</td>\n",
       "      <td>0</td>\n",
       "      <td>0</td>\n",
       "      <td>0</td>\n",
       "    </tr>\n",
       "    <tr>\n",
       "      <th>3</th>\n",
       "      <td>8</td>\n",
       "      <td>0</td>\n",
       "      <td>0</td>\n",
       "      <td>0</td>\n",
       "    </tr>\n",
       "    <tr>\n",
       "      <th>4</th>\n",
       "      <td>15</td>\n",
       "      <td>0</td>\n",
       "      <td>0</td>\n",
       "      <td>0</td>\n",
       "    </tr>\n",
       "  </tbody>\n",
       "</table>\n",
       "</div>"
      ],
      "text/plain": [
       "   education  job_custodial  job_manage  English speaker_yes\n",
       "0         15              0           1                    0\n",
       "1         16              0           0                    0\n",
       "2         12              0           0                    0\n",
       "3          8              0           0                    0\n",
       "4         15              0           0                    0"
      ]
     },
     "execution_count": 27,
     "metadata": {},
     "output_type": "execute_result"
    }
   ],
   "source": [
    "X.head()"
   ]
  },
  {
   "cell_type": "markdown",
   "id": "f11881b9",
   "metadata": {},
   "source": [
    "###  Splitting the dataset into the Training  and Test set "
   ]
  },
  {
   "cell_type": "code",
   "execution_count": 28,
   "id": "5ba893a9",
   "metadata": {},
   "outputs": [],
   "source": [
    "from sklearn.model_selection import train_test_split\n",
    "X_train , X_test , y_train , y_test = train_test_split(X , y , test_size=0.2 , random_state = 1)"
   ]
  },
  {
   "cell_type": "markdown",
   "id": "165a0659",
   "metadata": {},
   "source": [
    "### Classification Model (Random Forest Classifier) "
   ]
  },
  {
   "cell_type": "markdown",
   "id": "540eccea",
   "metadata": {},
   "source": [
    "Random Forest classifier as the classification model to predict gender. Training it with train dataset and making predictions using test dataset and then compare  the predicted with known results through various metrics.  "
   ]
  },
  {
   "cell_type": "code",
   "execution_count": 29,
   "id": "65be2f5b",
   "metadata": {},
   "outputs": [
    {
     "data": {
      "text/html": [
       "<style>#sk-container-id-1 {color: black;}#sk-container-id-1 pre{padding: 0;}#sk-container-id-1 div.sk-toggleable {background-color: white;}#sk-container-id-1 label.sk-toggleable__label {cursor: pointer;display: block;width: 100%;margin-bottom: 0;padding: 0.3em;box-sizing: border-box;text-align: center;}#sk-container-id-1 label.sk-toggleable__label-arrow:before {content: \"▸\";float: left;margin-right: 0.25em;color: #696969;}#sk-container-id-1 label.sk-toggleable__label-arrow:hover:before {color: black;}#sk-container-id-1 div.sk-estimator:hover label.sk-toggleable__label-arrow:before {color: black;}#sk-container-id-1 div.sk-toggleable__content {max-height: 0;max-width: 0;overflow: hidden;text-align: left;background-color: #f0f8ff;}#sk-container-id-1 div.sk-toggleable__content pre {margin: 0.2em;color: black;border-radius: 0.25em;background-color: #f0f8ff;}#sk-container-id-1 input.sk-toggleable__control:checked~div.sk-toggleable__content {max-height: 200px;max-width: 100%;overflow: auto;}#sk-container-id-1 input.sk-toggleable__control:checked~label.sk-toggleable__label-arrow:before {content: \"▾\";}#sk-container-id-1 div.sk-estimator input.sk-toggleable__control:checked~label.sk-toggleable__label {background-color: #d4ebff;}#sk-container-id-1 div.sk-label input.sk-toggleable__control:checked~label.sk-toggleable__label {background-color: #d4ebff;}#sk-container-id-1 input.sk-hidden--visually {border: 0;clip: rect(1px 1px 1px 1px);clip: rect(1px, 1px, 1px, 1px);height: 1px;margin: -1px;overflow: hidden;padding: 0;position: absolute;width: 1px;}#sk-container-id-1 div.sk-estimator {font-family: monospace;background-color: #f0f8ff;border: 1px dotted black;border-radius: 0.25em;box-sizing: border-box;margin-bottom: 0.5em;}#sk-container-id-1 div.sk-estimator:hover {background-color: #d4ebff;}#sk-container-id-1 div.sk-parallel-item::after {content: \"\";width: 100%;border-bottom: 1px solid gray;flex-grow: 1;}#sk-container-id-1 div.sk-label:hover label.sk-toggleable__label {background-color: #d4ebff;}#sk-container-id-1 div.sk-serial::before {content: \"\";position: absolute;border-left: 1px solid gray;box-sizing: border-box;top: 0;bottom: 0;left: 50%;z-index: 0;}#sk-container-id-1 div.sk-serial {display: flex;flex-direction: column;align-items: center;background-color: white;padding-right: 0.2em;padding-left: 0.2em;position: relative;}#sk-container-id-1 div.sk-item {position: relative;z-index: 1;}#sk-container-id-1 div.sk-parallel {display: flex;align-items: stretch;justify-content: center;background-color: white;position: relative;}#sk-container-id-1 div.sk-item::before, #sk-container-id-1 div.sk-parallel-item::before {content: \"\";position: absolute;border-left: 1px solid gray;box-sizing: border-box;top: 0;bottom: 0;left: 50%;z-index: -1;}#sk-container-id-1 div.sk-parallel-item {display: flex;flex-direction: column;z-index: 1;position: relative;background-color: white;}#sk-container-id-1 div.sk-parallel-item:first-child::after {align-self: flex-end;width: 50%;}#sk-container-id-1 div.sk-parallel-item:last-child::after {align-self: flex-start;width: 50%;}#sk-container-id-1 div.sk-parallel-item:only-child::after {width: 0;}#sk-container-id-1 div.sk-dashed-wrapped {border: 1px dashed gray;margin: 0 0.4em 0.5em 0.4em;box-sizing: border-box;padding-bottom: 0.4em;background-color: white;}#sk-container-id-1 div.sk-label label {font-family: monospace;font-weight: bold;display: inline-block;line-height: 1.2em;}#sk-container-id-1 div.sk-label-container {text-align: center;}#sk-container-id-1 div.sk-container {/* jupyter's `normalize.less` sets `[hidden] { display: none; }` but bootstrap.min.css set `[hidden] { display: none !important; }` so we also need the `!important` here to be able to override the default hidden behavior on the sphinx rendered scikit-learn.org. See: https://github.com/scikit-learn/scikit-learn/issues/21755 */display: inline-block !important;position: relative;}#sk-container-id-1 div.sk-text-repr-fallback {display: none;}</style><div id=\"sk-container-id-1\" class=\"sk-top-container\"><div class=\"sk-text-repr-fallback\"><pre>RandomForestClassifier(criterion=&#x27;entropy&#x27;, n_estimators=10, random_state=0)</pre><b>In a Jupyter environment, please rerun this cell to show the HTML representation or trust the notebook. <br />On GitHub, the HTML representation is unable to render, please try loading this page with nbviewer.org.</b></div><div class=\"sk-container\" hidden><div class=\"sk-item\"><div class=\"sk-estimator sk-toggleable\"><input class=\"sk-toggleable__control sk-hidden--visually\" id=\"sk-estimator-id-1\" type=\"checkbox\" checked><label for=\"sk-estimator-id-1\" class=\"sk-toggleable__label sk-toggleable__label-arrow\">RandomForestClassifier</label><div class=\"sk-toggleable__content\"><pre>RandomForestClassifier(criterion=&#x27;entropy&#x27;, n_estimators=10, random_state=0)</pre></div></div></div></div></div>"
      ],
      "text/plain": [
       "RandomForestClassifier(criterion='entropy', n_estimators=10, random_state=0)"
      ]
     },
     "execution_count": 29,
     "metadata": {},
     "output_type": "execute_result"
    }
   ],
   "source": [
    "# random forest classifier algo\n",
    "from sklearn.ensemble import RandomForestClassifier\n",
    "# set no. of trees to be 10\n",
    "classifier = RandomForestClassifier(n_estimators = 10, criterion = 'entropy', random_state = 0)\n",
    "classifier.fit(X_train, y_train)"
   ]
  },
  {
   "cell_type": "code",
   "execution_count": 30,
   "id": "7e546b3c",
   "metadata": {},
   "outputs": [],
   "source": [
    "#Predicting the Test set results\n",
    "y_pred = classifier.predict(X_test)"
   ]
  },
  {
   "cell_type": "markdown",
   "id": "01eab37a",
   "metadata": {},
   "source": [
    "### Evauation of the model "
   ]
  },
  {
   "cell_type": "code",
   "execution_count": 31,
   "id": "53ae71d9",
   "metadata": {},
   "outputs": [
    {
     "name": "stdout",
     "output_type": "stream",
     "text": [
      "Accuracy: 0.625\n",
      "Precision: 0.625\n",
      "Recall: 1.0\n",
      "F1 Score: 0.7692307692307693\n"
     ]
    }
   ],
   "source": [
    "#evaluating the model performance using various metrics\n",
    "from sklearn.metrics import accuracy_score, precision_score, recall_score, f1_score\n",
    "accuracy = accuracy_score(y_test, y_pred)\n",
    "precision = precision_score(y_test, y_pred)\n",
    "recall = recall_score(y_test, y_pred)\n",
    "f1 = f1_score(y_test, y_pred)\n",
    "print(\"Accuracy:\", accuracy)\n",
    "print(\"Precision:\", precision)\n",
    "print(\"Recall:\", recall)\n",
    "print(\"F1 Score:\", f1)"
   ]
  },
  {
   "cell_type": "markdown",
   "id": "4f832921",
   "metadata": {},
   "source": [
    "### Identifying the most influential features "
   ]
  },
  {
   "cell_type": "markdown",
   "id": "ab2e1504",
   "metadata": {},
   "source": [
    "Use permutation importance technique to evaluate the importance of each features.calculate feature importance scores and convert it into dataframe with cols as associated features and their score. Sort that out in decreasing order and then plot it visually using barplot."
   ]
  },
  {
   "cell_type": "code",
   "execution_count": 32,
   "id": "5b34fcd6",
   "metadata": {},
   "outputs": [],
   "source": [
    "from sklearn.inspection import permutation_importance\n",
    "import matplotlib.pyplot as plt\n",
    "# Calculate feature importance scores\n",
    "feature_importances = classifier.feature_importances_"
   ]
  },
  {
   "cell_type": "code",
   "execution_count": 33,
   "id": "0e4818f6",
   "metadata": {},
   "outputs": [
    {
     "data": {
      "text/plain": [
       "array([0.61777502, 0.11980803, 0.07234546, 0.19007148])"
      ]
     },
     "execution_count": 33,
     "metadata": {},
     "output_type": "execute_result"
    }
   ],
   "source": [
    "feature_importances"
   ]
  },
  {
   "cell_type": "code",
   "execution_count": 34,
   "id": "b666c3a2",
   "metadata": {},
   "outputs": [
    {
     "name": "stdout",
     "output_type": "stream",
     "text": [
      "Feature Importance Scores:\n",
      "               Feature  Importance\n",
      "0            education    0.617775\n",
      "3  English speaker_yes    0.190071\n",
      "1        job_custodial    0.119808\n",
      "2           job_manage    0.072345\n"
     ]
    },
    {
     "data": {
      "image/png": "[encoded data removed]",
      "text/plain": [
       "<Figure size 1000x600 with 1 Axes>"
      ]
     },
     "metadata": {},
     "output_type": "display_data"
    }
   ],
   "source": [
    "\n",
    "# DataFrame to display feature importances\n",
    "importance_df = pd.DataFrame({'Feature': X.columns, 'Importance': feature_importances})\n",
    "\n",
    "#  DataFrame sorted by importance in descending order\n",
    "importance_df = importance_df.sort_values(by='Importance', ascending=False)\n",
    "\n",
    "# Print feature importances\n",
    "print(\"Feature Importance Scores:\")\n",
    "print(importance_df)\n",
    "\n",
    "# Create a bar plot of feature importances\n",
    "plt.figure(figsize=(10, 6))\n",
    "plt.bar(range(len(importance_df)), importance_df['Importance'], tick_label=importance_df['Feature'])\n",
    "plt.xlabel(\"Features\")\n",
    "plt.ylabel(\"Feature Importance\")\n",
    "plt.title(\"Feature Importances\")\n",
    "plt.xticks(rotation=45)\n",
    "plt.show()"
   ]
  },
  {
   "cell_type": "markdown",
   "id": "a5440679",
   "metadata": {},
   "source": [
    "### ROC Curve and AUC score of the model"
   ]
  },
  {
   "cell_type": "code",
   "execution_count": 35,
   "id": "23322fa2",
   "metadata": {},
   "outputs": [
    {
     "name": "stdout",
     "output_type": "stream",
     "text": [
      "AUC Score: 0.6\n"
     ]
    },
    {
     "data": {
      "image/png": "[encoded data removed]",
      "text/plain": [
       "<Figure size 800x600 with 1 Axes>"
      ]
     },
     "metadata": {},
     "output_type": "display_data"
    }
   ],
   "source": [
    "from sklearn.metrics import roc_curve, roc_auc_score\n",
    "from sklearn.metrics import classification_report\n",
    "\n",
    "#  probabilities preicted for the positive class\n",
    "y_probs = classifier.predict_proba(X_test)[:, 1]\n",
    "\n",
    "#  ROC curve\n",
    "fpr, tpr, thresholds = roc_curve(y_test, y_probs)    # fpr --> false positive rate , tpr--> True positive rate\n",
    "\n",
    "#  AUC score\n",
    "auc_score = roc_auc_score(y_test, y_probs)\n",
    "print(\"AUC Score:\", auc_score)\n",
    "\n",
    "# Visualizing ROC curve\n",
    "plt.figure(figsize=(8, 6))\n",
    "plt.plot(fpr, tpr, color='darkorange', lw=2, label='ROC curve (AUC = {:.2f})'.format(auc_score))\n",
    "plt.plot([0, 1], [0, 1], color='navy', lw=2, linestyle='--')\n",
    "plt.xlim([0.0, 1.0])\n",
    "plt.ylim([0.0, 1.05])\n",
    "plt.xlabel('False Positive Rate')\n",
    "plt.ylabel('True Positive Rate')\n",
    "plt.title('ROC Curve')\n",
    "plt.legend(loc='lower right')\n",
    "plt.show()"
   ]
  },
  {
   "cell_type": "markdown",
   "id": "fdf6073a",
   "metadata": {},
   "source": [
    "### Summary "
   ]
  },
  {
   "cell_type": "markdown",
   "id": "231a8c7a",
   "metadata": {},
   "source": [
    " The model has an accuracy of 62.5%, indicating that it correctly predicts gender for 62.5% of the individuals in the dataset.\n",
    " The most important feature is 'education' with a score of 0.6178, suggesting that education level has the highest impact on   predicting gender.It could also imply that certain education levels are associated with specific genders in the dataset.\n",
    " "
   ]
  }
 ],
 "metadata": {
  "kernelspec": {
   "display_name": "Python 3 (ipykernel)",
   "language": "python",
   "name": "python3"
  },
  "language_info": {
   "codemirror_mode": {
    "name": "ipython",
    "version": 3
   },
   "file_extension": ".py",
   "mimetype": "text/x-python",
   "name": "python",
   "nbconvert_exporter": "python",
   "pygments_lexer": "ipython3",
   "version": "3.11.4"
  }
 },
 "nbformat": 4,
 "nbformat_minor": 5
}
